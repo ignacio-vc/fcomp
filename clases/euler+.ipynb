{
 "cells": [
  {
   "cell_type": "markdown",
   "metadata": {},
   "source": [
    "# Segundo metodo\n",
    "\n",
    "$$\n",
    "y_{n+1} = y_n + hf + \\frac{h^2}{2} \\left(\\frac{\\partial f}{\\partial x} + \\frac{\\partial f}{\\partial y} f \\right)\n",
    "$$\n",
    "\n",
    "donde $f$ y sus parciales estan evaluadas en $f(x_n,y_n)$"
   ]
  },
  {
   "cell_type": "code",
   "execution_count": 8,
   "metadata": {
    "collapsed": true
   },
   "outputs": [],
   "source": [
    "from pylab import *\n",
    "%matplotlib inline"
   ]
  },
  {
   "cell_type": "code",
   "execution_count": 45,
   "metadata": {
    "collapsed": false
   },
   "outputs": [],
   "source": [
    "#24/08/16\n",
    "#Ecuacion diferencial, punto inicial, tiempo, jacobiano de la ecuacion y  h)\n",
    "#Me conviene que me de la regla y sus derivadas parciales. \n",
    "def segundo_orden1(ec_diff, p_ini, t_final, ec_jac, h=0.1):\n",
    "    tiempo  = arange(0, t_final+h, h)\n",
    "    y = zeros(len(tiempo))\n",
    "    y[0] = p_ini\n",
    "    for i in range (len(tiempo)-1):\n",
    "        y[i+1] = y[i] + h*ec_diff((y[i]),tiempo[i])\n",
    "        y[i+1] += 0.5*h*h*ec_jac(y[i],tiempo[i])[0]\n",
    "        y[i+1] += 0.5*h*h*ec_jac(y[i],tiempo[i])[1]*ec_diff(y[i],tiempo[i])\n",
    "    return tiempo, y"
   ]
  },
  {
   "cell_type": "code",
   "execution_count": 28,
   "metadata": {
    "collapsed": false
   },
   "outputs": [
    {
     "data": {
      "text/plain": [
       "array([ 0.  ,  0.25,  0.5 ,  0.75,  1.  ,  1.25,  1.5 ,  1.75,  2.  ,\n",
       "        2.25,  2.5 ,  2.75])"
      ]
     },
     "execution_count": 28,
     "metadata": {},
     "output_type": "execute_result"
    }
   ],
   "source": [
    "arange(0,3,0.25)"
   ]
  },
  {
   "cell_type": "code",
   "execution_count": 37,
   "metadata": {
    "collapsed": true
   },
   "outputs": [],
   "source": [
    "#El tiempo tiene que estar escalado con h\n",
    "def euler1(ec_diff, p_ini, t_final, h=0.1):\n",
    "    tiempo  = arange(0, t_final+h, h)\n",
    "    y = zeros(len(tiempo))\n",
    "    y[0] = p_ini\n",
    "    for i in range(len(tiempo)-1):\n",
    "        y[i+1] = y[i] + h*ec_diff(y[i],tiempo[i])\n",
    "    return tiempo, y"
   ]
  },
  {
   "cell_type": "code",
   "execution_count": 10,
   "metadata": {
    "collapsed": true
   },
   "outputs": [],
   "source": [
    "def ec_dif(y,x):\n",
    "    return x*sin(y)\n",
    "\n",
    "def d_ec_dif(y,x):\n",
    "    return sin(y),x*cos(y)"
   ]
  },
  {
   "cell_type": "code",
   "execution_count": 15,
   "metadata": {
    "collapsed": false
   },
   "outputs": [
    {
     "data": {
      "text/plain": [
       "(0.70710678118654746, 1.4142135623730951)"
      ]
     },
     "execution_count": 15,
     "metadata": {},
     "output_type": "execute_result"
    }
   ],
   "source": [
    "d_ec_dif(pi/4,2)"
   ]
  },
  {
   "cell_type": "code",
   "execution_count": 54,
   "metadata": {
    "collapsed": false
   },
   "outputs": [
    {
     "data": {
      "image/png": "[encoded data removed]",
      "text/plain": [
       "<matplotlib.figure.Figure at 0x7fa87d9cc610>"
      ]
     },
     "metadata": {},
     "output_type": "display_data"
    }
   ],
   "source": [
    "y_euler = euler1(ec_dif, 1, 2.5)\n",
    "y_euler_01 = euler1(ec_dif, 1, 2.5, 0.01) #9\n",
    "y_seg = segundo_orden1(ec_dif,1,2.5,d_ec_dif)\n",
    "plot(y_euler[0], y_euler[1], '--', label=\"Euler h=0.1\")\n",
    "plot(y_euler_01[0], y_euler_01[1], '--', label=\"Euler h\")\n",
    "plot(y_seg[0],y_seg[1], 'o', label=\"SG h=0.1\")\n",
    "legend()\n",
    "show()"
   ]
  },
  {
   "cell_type": "code",
   "execution_count": null,
   "metadata": {
    "collapsed": true
   },
   "outputs": [],
   "source": [
    "print y_seg[1][-1-y_euler[1][-1]\n",
    "print y_"
   ]
  },
  {
   "cell_type": "code",
   "execution_count": null,
   "metadata": {
    "collapsed": true
   },
   "outputs": [],
   "source": []
  },
  {
   "cell_type": "code",
   "execution_count": null,
   "metadata": {
    "collapsed": true
   },
   "outputs": [],
   "source": []
  }
 ],
 "metadata": {
  "kernelspec": {
   "display_name": "Python [Root]",
   "language": "python",
   "name": "Python [Root]"
  },
  "language_info": {
   "codemirror_mode": {
    "name": "ipython",
    "version": 2
   },
   "file_extension": ".py",
   "mimetype": "text/x-python",
   "name": "python",
   "nbconvert_exporter": "python",
   "pygments_lexer": "ipython2",
   "version": "2.7.12"
  }
 },
 "nbformat": 4,
 "nbformat_minor": 0
}
