{
 "cells": [
  {
   "cell_type": "markdown",
   "metadata": {},
   "source": [
    "# Tarea 1 - Fisica Computacional\n",
    "#### Estudiante: Ignacio Vargas Cordero\n",
    "\n",
    "### Ejercicio 1  \n",
    "Realice un notebook en el se programen y expliquen los siguientes algoritmos de integracion de ecuaciones diferenciales:\n",
    "\n",
    "1. Integracion con metodo de Euler\n",
    "2. Integracion sobre serie de Taylor a 2 orden\n",
    "3. Integracion con metodo de Runge-Kutta de 2 orden\n",
    "4. Integracion con metodo de Runge-Kutta de 4 orden\n",
    "\n",
    "Verifique el funcionamiento de sus integradores encontrando la solucion de la siguiente ecuacion diferencial para $y(t)$:\n",
    "\n",
    "$\\ddot{x} + 0.5\\dot{x} + \\sin{x} = e^{-t} \\sin(3t)$\n",
    "\n",
    "con condiciones iniciales $\\dot{x}(0) = 1$ y $x(0) = 0$"
   ]
  },
  {
   "cell_type": "code",
   "execution_count": 5,
   "metadata": {
    "collapsed": false
   },
   "outputs": [],
   "source": [
    "from pylab import *\n",
    "%matplotlib inline"
   ]
  },
  {
   "cell_type": "code",
   "execution_count": 4,
   "metadata": {
    "collapsed": true
   },
   "outputs": [],
   "source": [
    "def euler(funcion,p_ini,t_final,h=0.01):\n",
    "    tiempos = arange(p_ini[0],t_final+h,h)\n",
    "    y = [0]*len(tiempos) #zeros(len(tiempos))\n",
    "    y[0] = p_ini[1]\n",
    "    for i in range(len(tiempos)-1):\n",
    "        y[i+1] = y[i] + funcion(y[i],tiempos[i])*h\n",
    "    solucion = [tiempos,y]\n",
    "    return solucion\n",
    "\n",
    "def integra2(ec,d_ec,p_ini,x,h=0.1):\n",
    "    tiempos = arange(x[0],x[1]+h,h)\n",
    "    sol = zeros((len(tiempos),len(p_ini)))\n",
    "    sol[0,:] = p_ini\n",
    "    for i in xrange(len(tiempos)-1):\n",
    "        f = ec(sol[i,:],tiempos[i])\n",
    "        df,jac=d_ec(sol[i,:],tiempos[i])\n",
    "        sol[i+1,:]=sol[i,:]+h*f+(0.5*h*h*(df+dot(jac,f)))\n",
    "    return tiempos,sol\n",
    "\n",
    "def rk2(ec,p_ini,x,h=0.1):\n",
    "    tiempos = arange(x[0],x[1]+h,h)\n",
    "    sol = zeros((len(tiempos),len(p_ini)))\n",
    "    sol[0,:] = p_ini\n",
    "    for i in xrange(len(tiempos)-1):\n",
    "        k = h*ec(sol[i,:],tiempos[i])\n",
    "        f = ec(sol[i,:]+0.5*k,tiempos[i]+0.5*h)\n",
    "        sol[i+1,:]=sol[i,:]+h*f\n",
    "    return tiempos,sol\n",
    "\n",
    "def rk4(ec,p_ini,x,h=0.1):\n",
    "    tiempos = arange(x[0],x[1]+h,h)\n",
    "    sol = zeros((len(tiempos),len(p_ini)))\n",
    "    sol[0,:] = p_ini\n",
    "    for i in xrange(len(tiempos)-1):\n",
    "        k1 = ec(sol[i,:],tiempos[i])\n",
    "        k2 = ec(sol[i,:]+0.5*h*k1,tiempos[i]+0.5*h)\n",
    "        k3 = ec(sol[i,:]+0.5*h*k2,tiempos[i]+0.5*h)\n",
    "        k4 = ec(sol[i,:]+h*k3,tiempos[i]+h)\n",
    "        sol[i+1,:]=sol[i,:]+(h/6.)*(k1+2*k2+2*k3+k4)\n",
    "    return tiempos,sol"
   ]
  },
  {
   "cell_type": "code",
   "execution_count": 6,
   "metadata": {
    "collapsed": false
   },
   "outputs": [
    {
     "ename": "SyntaxError",
     "evalue": "invalid syntax (<ipython-input-6-4ab9893d5563>, line 2)",
     "output_type": "error",
     "traceback": [
      "\u001b[0;36m  File \u001b[0;32m\"<ipython-input-6-4ab9893d5563>\"\u001b[0;36m, line \u001b[0;32m2\u001b[0m\n\u001b[0;31m    return (d^2 x(t))/(dt^2)+0.5*(dx(t))/(dt)+sin(x(t)) = e^(-t) sin(3 t)\u001b[0m\n\u001b[0m                ^\u001b[0m\n\u001b[0;31mSyntaxError\u001b[0m\u001b[0;31m:\u001b[0m invalid syntax\n"
     ]
    }
   ],
   "source": [
    "def dif1(x,t):\n",
    "    return (d^2 x(t))/(dt^2)+0.5*(dx(t))/(dt)+sin(x(t)) = e^(-t) sin(3 t)"
   ]
  },
  {
   "cell_type": "markdown",
   "metadata": {},
   "source": [
    "### Ejercicio 2  \n",
    "Utilizando los integradores anteriores encuentre el mejor paso de integracion para la siguiente ecuacion:\n",
    "\n",
    "$\\dddot{y} + \\ddot{y}^2 - 3\\dot{y}^3 + \\cos^2{y} = e^{-t} \\sin(3t)$\n",
    "\n",
    "con condiciones iniciales $\\ddot{y}(1) = 1, \\dot{y}(1) = 2, y(1) = 1$. En particular que sucede en el intervalo $t \\in [1,2]$ y $t \\in [1,2.1]$."
   ]
  },
  {
   "cell_type": "markdown",
   "metadata": {},
   "source": [
    "### Ejercicio 3  \n",
    "Modifique las funciones integradoras en el problema 1 de tal manera que se puedan pasar argumentos opcionales al sistema de ecuaciones diferenciales de tal manera que se puedan modificar parametros al momento de hacer la integracion. Una vez hecho esto, obtenga la solucion de la siguiente ecucacion diferencial\n",
    "\n",
    "$\\ddot{x} + \\frac{1}{10}\\dot{x} + 4\\sin{x} = \\frac{1}{2}\\sin(\\omega t)$\n",
    "\n",
    "Con condiciones iniciales $\\dot{x}(0) = 1$ y $x(0) = 0$ y para $\\omega = \\{1,1.1,1.2,1.3,...,2.9,3\\}$. Realice la grafica de algunas soluciones que representen el comportamiento de la solucion en funcion de $\\omega$ y explique su resultado.\n"
   ]
  },
  {
   "cell_type": "markdown",
   "metadata": {},
   "source": [
    "### Ejercicio 4  \n",
    "Considere el siguiente sistema de ecuaciones diferenciales\n",
    "\n",
    "$$\\frac{dx}{dt} = 10(y-x)\\\\\n",
    "\\frac{dy}{dt} = x(28-z)-y\\\\\n",
    "\\frac{dx}{dt} = xy - \\frac{8}{3}z$$\n",
    "\n",
    "Realice una integracion numerica del sistema de ecuaciones con alguno de los integradores del problema (el que mas le guste) y realice los siguientes ejercicios:\n",
    "\n",
    "1. Elja una condicion inicial aleatoria en el $x,y,z \\in [-5,5]$ y realice la grafica de la solucion en el plano $xy, xz, yz$ y comente sobre sus observaciones.\n",
    "\n",
    "2. Ahora tome 3 soluciones parecidas. Para ello proponga 3 condiciones iniciales tales que en la coordenada en $y$ las condiciones iniciales difieran entr esi en $10^{-2}$. Explique lo que observa.  \n",
    "Nota: De preferencia realice las integraciones con tiempos relativamente largos en los que pueda apreciar diferencias en el comportamiento de las soluciones."
   ]
  }
 ],
 "metadata": {
  "kernelspec": {
   "display_name": "Python [Root]",
   "language": "python",
   "name": "Python [Root]"
  },
  "language_info": {
   "codemirror_mode": {
    "name": "ipython",
    "version": 2
   },
   "file_extension": ".py",
   "mimetype": "text/x-python",
   "name": "python",
   "nbconvert_exporter": "python",
   "pygments_lexer": "ipython2",
   "version": "2.7.12"
  }
 },
 "nbformat": 4,
 "nbformat_minor": 1
}
