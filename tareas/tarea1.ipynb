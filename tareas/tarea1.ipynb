{
 "cells": [
  {
   "cell_type": "markdown",
   "metadata": {},
   "source": [
    "# Tarea 1 - Fisica Computacional\n",
    "\n",
    "## Estudiante: Ignacio Vargas Cordero\n",
    "\n",
    "###  1.  Realice un notebook en el se programen y expliquen los siguientes algoritmos de integracion de ecuaciones diferenciales:"
   ]
  },
  {
   "cell_type": "markdown",
   "metadata": {},
   "source": [
    "1. Integracion con metodo de Euler\n",
    "2. Integracion sobre serie de Taylor a 2 orden\n",
    "3. Integracion con metodo de Runge-Kutta de 2 orden\n",
    "4. Integracion con metodo de Runge-Kutta de 4 orden\n",
    "\n",
    "Verifique el funcionamiento de sus integradores encontrando la solucion de la siguiente ecuacion diferencial para $y(t)$:\n",
    "\n",
    "$\\ddot{x} + 0.5\\dot{x} + \\sin{x} = e^{-t} \\sin(3t)$"
   ]
  },
  {
   "cell_type": "code",
   "execution_count": null,
   "metadata": {
    "collapsed": true
   },
   "outputs": [],
   "source": []
  }
 ],
 "metadata": {
  "kernelspec": {
   "display_name": "Python [Root]",
   "language": "python",
   "name": "Python [Root]"
  },
  "language_info": {
   "codemirror_mode": {
    "name": "ipython",
    "version": 2
   },
   "file_extension": ".py",
   "mimetype": "text/x-python",
   "name": "python",
   "nbconvert_exporter": "python",
   "pygments_lexer": "ipython2",
   "version": "2.7.12"
  }
 },
 "nbformat": 4,
 "nbformat_minor": 1
}
