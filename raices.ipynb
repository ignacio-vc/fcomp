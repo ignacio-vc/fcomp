{
 "cells": [
  {
   "cell_type": "markdown",
   "metadata": {},
   "source": [
    "# Raices!"
   ]
  },
  {
   "cell_type": "code",
   "execution_count": 1,
   "metadata": {
    "collapsed": true
   },
   "outputs": [],
   "source": [
    "from pylab import *\n",
    "%matplotlib inline"
   ]
  },
  {
   "cell_type": "code",
   "execution_count": 20,
   "metadata": {
    "collapsed": false
   },
   "outputs": [],
   "source": [
    "def raiz_bip(func,x_i,x_d,err=1e-5):\n",
    "    raiz = 0.5 * (x_i + x_d)\n",
    "    y_i,y_d = func(x_i),func(x_d)\n",
    "    n = 0\n",
    "    while abs(raiz - x_d) >= err and abs(y_i - y_d) >= err :\n",
    "        y_m = func(raiz)\n",
    "        if y_m == 0.:\n",
    "            print \"chin, le atine :D\"\n",
    "            break\n",
    "        if y_m * y_i < 0:\n",
    "            x_d = raiz\n",
    "        else:\n",
    "            x_i = raiz\n",
    "        raiz = 0.5*(x_i+x_d)\n",
    "        y_i,y_d = func(x_i),func(x_d)\n",
    "        print \"paso: \",n,\" raiz =\",raiz\n",
    "        n+= 1\n",
    "    return raiz"
   ]
  },
  {
   "cell_type": "code",
   "execution_count": 6,
   "metadata": {
    "collapsed": false
   },
   "outputs": [
    {
     "data": {
      "image/png": "[encoded data removed]",
      "text/plain": [
       "<matplotlib.figure.Figure at 0x7f4df29dd690>"
      ]
     },
     "metadata": {},
     "output_type": "display_data"
    }
   ],
   "source": [
    "x=linspace(3,4)\n",
    "plot(x,sin(x))\n",
    "grid(True)\n",
    "show()"
   ]
  },
  {
   "cell_type": "code",
   "execution_count": 21,
   "metadata": {
    "collapsed": false
   },
   "outputs": [
    {
     "name": "stdout",
     "output_type": "stream",
     "text": [
      "La raiz es:  paso:  0  raiz = 3.25\n",
      "paso:  1  raiz = 3.125\n",
      "paso:  2  raiz = 3.1875\n",
      "paso:  3  raiz = 3.15625\n",
      "paso:  4  raiz = 3.140625\n",
      "paso:  5  raiz = 3.1484375\n",
      "paso:  6  raiz = 3.14453125\n",
      "paso:  7  raiz = 3.142578125\n",
      "paso:  8  raiz = 3.1416015625\n",
      "paso:  9  raiz = 3.14111328125\n",
      "paso:  10  raiz = 3.14135742188\n",
      "paso:  11  raiz = 3.14147949219\n",
      "paso:  12  raiz = 3.14154052734\n",
      "paso:  13  raiz = 3.14157104492\n",
      "paso:  14  raiz = 3.14158630371\n",
      "paso:  15  raiz = 3.14159393311\n",
      "paso:  16  raiz = 3.14159011841\n",
      "paso:  17  raiz = 3.14159202576\n",
      "paso:  18  raiz = 3.14159297943\n",
      "paso:  19  raiz = 3.14159250259\n",
      "paso:  20  raiz = 3.14159274101\n",
      "paso:  21  raiz = 3.1415926218\n",
      "paso:  22  raiz = 3.14159268141\n",
      "paso:  23  raiz = 3.14159265161\n",
      "paso:  24  raiz = 3.14159266651\n",
      "paso:  25  raiz = 3.14159265906\n",
      "paso:  26  raiz = 3.14159265533\n",
      "paso:  27  raiz = 3.14159265347\n",
      "paso:  28  raiz = 3.1415926544\n",
      "3.1415926544\n",
      "pi  3.14159265359\n"
     ]
    }
   ],
   "source": [
    "print \"La raiz es: \", raiz_bip(sin,3,4,1e-9)\n",
    "print \"pi \", pi"
   ]
  },
  {
   "cell_type": "code",
   "execution_count": 11,
   "metadata": {
    "collapsed": false
   },
   "outputs": [],
   "source": [
    "def una_funcion(x):\n",
    "    return (x-1)**5"
   ]
  },
  {
   "cell_type": "code",
   "execution_count": 12,
   "metadata": {
    "collapsed": false
   },
   "outputs": [
    {
     "data": {
      "image/png": "[encoded data removed]",
      "text/plain": [
       "<matplotlib.figure.Figure at 0x7f4df05c89d0>"
      ]
     },
     "metadata": {},
     "output_type": "display_data"
    }
   ],
   "source": [
    "x=linspace(0,2)\n",
    "plot(x,una_funcion(x))\n",
    "show()"
   ]
  },
  {
   "cell_type": "code",
   "execution_count": null,
   "metadata": {
    "collapsed": true
   },
   "outputs": [],
   "source": []
  }
 ],
 "metadata": {
  "kernelspec": {
   "display_name": "Python [Root]",
   "language": "python",
   "name": "Python [Root]"
  },
  "language_info": {
   "codemirror_mode": {
    "name": "ipython",
    "version": 2
   },
   "file_extension": ".py",
   "mimetype": "text/x-python",
   "name": "python",
   "nbconvert_exporter": "python",
   "pygments_lexer": "ipython2",
   "version": "2.7.12"
  }
 },
 "nbformat": 4,
 "nbformat_minor": 0
}
